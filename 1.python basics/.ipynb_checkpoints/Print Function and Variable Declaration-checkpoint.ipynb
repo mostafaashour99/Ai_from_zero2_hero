{
 "cells": [
  {
   "cell_type": "markdown",
   "id": "1a05342d",
   "metadata": {},
   "source": [
    "# Python Programming Basics for Beginners"
   ]
  },
  {
   "cell_type": "markdown",
   "id": "473336f6",
   "metadata": {},
   "source": [
    "#### 1.How to Print in Python"
   ]
  },
  {
   "cell_type": "code",
   "execution_count": 1,
   "id": "d25f8877",
   "metadata": {},
   "outputs": [
    {
     "name": "stdout",
     "output_type": "stream",
     "text": [
      "welcome in python world\n"
     ]
    }
   ],
   "source": [
    "#Print a simple String in Python\n",
    "print(\"welcome in python world\")"
   ]
  },
  {
   "cell_type": "code",
   "execution_count": 3,
   "id": "99e55447",
   "metadata": {
    "scrolled": true
   },
   "outputs": [
    {
     "name": "stdout",
     "output_type": "stream",
     "text": [
      "print is a simple function to show text in console\n"
     ]
    }
   ],
   "source": [
    "print (\"print is a simple function to show text in console\")\n"
   ]
  },
  {
   "cell_type": "code",
   "execution_count": 10,
   "id": "0cd5cf43",
   "metadata": {},
   "outputs": [
    {
     "name": "stdout",
     "output_type": "stream",
     "text": [
      "7\n"
     ]
    }
   ],
   "source": [
    "print(5+2)"
   ]
  },
  {
   "cell_type": "code",
   "execution_count": 12,
   "id": "c8f20504",
   "metadata": {},
   "outputs": [
    {
     "name": "stdout",
     "output_type": "stream",
     "text": [
      "2.5\n"
     ]
    }
   ],
   "source": [
    "print(5/2)"
   ]
  },
  {
   "cell_type": "code",
   "execution_count": 13,
   "id": "6ec1e59e",
   "metadata": {},
   "outputs": [
    {
     "name": "stdout",
     "output_type": "stream",
     "text": [
      "10\n"
     ]
    }
   ],
   "source": [
    "print(5*2)"
   ]
  },
  {
   "cell_type": "markdown",
   "id": "2042567d",
   "metadata": {},
   "source": [
    "#### 2.How to Define/Declare String Variable Types"
   ]
  },
  {
   "cell_type": "markdown",
   "id": "65d1f86d",
   "metadata": {},
   "source": [
    "##### What is a Variable in Python?"
   ]
  },
  {
   "cell_type": "markdown",
   "id": "f9821d34",
   "metadata": {},
   "source": [
    "A Python variable is a reserved memory location to store values. In other words, a variable in a python program gives data to the computer for processing.\n"
   ]
  },
  {
   "cell_type": "markdown",
   "id": "e7bd4734",
   "metadata": {},
   "source": [
    "##### Python Variable Types"
   ]
  },
  {
   "cell_type": "markdown",
   "id": "da9f1c13",
   "metadata": {},
   "source": [
    "Every value in Python has a datatype. Different data types in Python are Numbers, List, Tuple, Strings, Dictionary, etc. Variables in Python can be declared by any name or even alphabets like a, aa, abc, etc."
   ]
  },
  {
   "cell_type": "markdown",
   "id": "16312ed2",
   "metadata": {},
   "source": [
    "<ul>\n",
    "    <li>How to Declare and use a Variable</li>\n",
    "<li>Re-declare a Variable</li>\n",
    "<li>Python String Concatenation and Variable\n",
    "</li>\n",
    "<li>Python Variable Types: Local & Global\n",
    "</li>\n",
    "</ul>"
   ]
  },
  {
   "cell_type": "markdown",
   "id": "43b463d9",
   "metadata": {},
   "source": [
    "###### How to Declare and use a Variable"
   ]
  },
  {
   "cell_type": "code",
   "execution_count": 6,
   "id": "fedeb4d5",
   "metadata": {},
   "outputs": [
    {
     "name": "stdout",
     "output_type": "stream",
     "text": [
      "5\n"
     ]
    }
   ],
   "source": [
    "# Let see an example. We will define variable in Python and declare it as “FirstVariable” and print it.\n",
    "\n",
    "FirstVariable = 5   #decimal value\n",
    "\n",
    "print (FirstVariable)  # use print function with var name"
   ]
  },
  {
   "cell_type": "code",
   "execution_count": 8,
   "id": "fc703dec",
   "metadata": {},
   "outputs": [
    {
     "name": "stdout",
     "output_type": "stream",
     "text": [
      "2.5\n"
     ]
    }
   ],
   "source": [
    "secondVariable = 2.5 #float value => 5/2\n",
    "\n",
    "print(secondVariable)"
   ]
  },
  {
   "cell_type": "code",
   "execution_count": null,
   "id": "51e67447",
   "metadata": {},
   "outputs": [],
   "source": []
  }
 ],
 "metadata": {
  "kernelspec": {
   "display_name": "Python 3 (ipykernel)",
   "language": "python",
   "name": "python3"
  },
  "language_info": {
   "codemirror_mode": {
    "name": "ipython",
    "version": 3
   },
   "file_extension": ".py",
   "mimetype": "text/x-python",
   "name": "python",
   "nbconvert_exporter": "python",
   "pygments_lexer": "ipython3",
   "version": "3.9.7"
  }
 },
 "nbformat": 4,
 "nbformat_minor": 5
}
